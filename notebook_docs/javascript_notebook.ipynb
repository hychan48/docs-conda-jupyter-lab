{
 "cells": [
  {
   "cell_type": "code",
   "execution_count": 16,
   "id": "38d9ef41",
   "metadata": {
    "collapsed": false,
    "jupyter": {
     "outputs_hidden": false
    }
   },
   "outputs": [
    {
     "name": "stdout",
     "output_type": "stream",
     "text": [
      "hi\n",
      "{ hi: 'world' }\n",
      "{ hi: 'world' }\n"
     ]
    }
   ],
   "source": [
    "var tmp = {\n",
    "    hi:'world'\n",
    "}\n",
    "console.log('hi')\n",
    "console.log(tmp)\n",
    "util.inspect(tmp)\n",
    "console.dir(tmp)"
   ]
  },
  {
   "cell_type": "code",
   "execution_count": 16,
   "id": "06b17a3b",
   "metadata": {
    "collapsed": false,
    "jupyter": {
     "outputs_hidden": false
    }
   },
   "outputs": [
    {
     "data": {
      "text/html": [
       "Person named Peter"
      ],
      "text/plain": [
       "Person { name: 'Peter' }"
      ]
     },
     "execution_count": 16,
     "metadata": {},
     "output_type": "execute_result"
    }
   ],
   "source": [
    "//https://github.com/n-riesco/ijavascript/blob/master/doc/custom.ipynb\n",
    "function Person(name) {\n",
    "    this.name = name;\n",
    "}\n",
    "\n",
    "Person.prototype.inspect = function inspect(depth) {\n",
    "    return \"Person named \" + this.name;\n",
    "};\n",
    "Person.prototype._toHtml = function _toHtml() {\n",
    "    var style = (\n",
    "        \"display:inline-block;\" +\n",
    "        \"padding:0.25em;\" +\n",
    "        //\"background:#ccc;\" +\n",
    "        \"background:#FF0000 !important;\" +\n",
    "        \"border: 1px solid #888;\" +\n",
    "        \"border-radius:0.25em;\" +\n",
    "        \"box-shadow: 0.8em 0.4em 0.4em black;\"\n",
    "    );\n",
    "    return (\n",
    "        \"\" +\n",
    "        this.inspect() +\n",
    "        \"\"\n",
    "    );\n",
    "};\n",
    "var peter = new Person(\"Peter\");\n",
    "// peter._toHtml()\n",
    "peter;"
   ]
  }
 ],
 "metadata": {
  "kernelspec": {
   "display_name": "JavaScript (Node.js)",
   "language": "javascript",
   "name": "javascript"
  },
  "language_info": {
   "file_extension": ".js",
   "mimetype": "application/javascript",
   "name": "javascript",
   "version": "18.12.1"
  }
 },
 "nbformat": 4,
 "nbformat_minor": 5
}
