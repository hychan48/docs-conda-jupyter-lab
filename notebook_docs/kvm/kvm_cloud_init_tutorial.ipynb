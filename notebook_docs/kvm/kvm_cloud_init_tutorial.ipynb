{
 "cells": [
  {
   "cell_type": "markdown",
   "source": [
    "# Summarize the fields needed\n",
    "```python\n",
    "# User Input\n",
    "# Files needed are user-data.yaml\n",
    "base_hostname = \"ub\"\n",
    "start_to_end_range:range = (1,1)\n",
    "dl_location:str=\"https://cloud-images.ubuntu.com/releases/focal/release/ubuntu-20.04-server-cloudimg-amd64.img\"\n",
    "file_name_os_name = \"ubuntu-20.04\" # -server-cloudimg-amd64.img / maybe extract\n",
    "virt_install:dict = None\n",
    "\n",
    "\n",
    "\n",
    "```"
   ],
   "metadata": {
    "collapsed": false
   }
  },
  {
   "cell_type": "code",
   "execution_count": null,
   "metadata": {
    "collapsed": true
   },
   "outputs": [],
   "source": [
    "# 1. Install Dependencies\n",
    "def install_dependencies():\n",
    "    \"\"\"\n",
    "    sudo apt -f install libvirt-daemon-system virtinst\n",
    "    sudo apt -f install cloud-init\n",
    "    sudo apt -f install cloud-image-utils\n",
    "    # https://command-not-found.com/cloud-localds\n",
    "    :return:\n",
    "    \"\"\""
   ]
  },
  {
   "cell_type": "code",
   "execution_count": 26,
   "outputs": [
    {
     "name": "stdout",
     "output_type": "stream",
     "text": [
      "/var/lib/libvirt/images #root\n",
      "├── /bases\n",
      "│   ├── # qcow will reference this\n",
      "│   └── ubuntu-20.04-server-cloudimg-amd64.img\n",
      "└── /qcows\n",
      "    └── /ub-vms\n",
      "        ├── ub1.qcow2\n",
      "        ├── ub2...\n",
      "        └── ub<n>\n",
      "\n"
     ]
    }
   ],
   "source": [
    "# Folder Structure\n",
    "def create_folder_structure():pass\n",
    "tmp=\"\"\"\n",
    "/var/lib/libvirt/images #root\n",
    "  /bases\n",
    "    # qcow will reference this\n",
    "    ubuntu-20.04-server-cloudimg-amd64.img\n",
    "  /qcows\n",
    "    /ub-vms\n",
    "      ub1.qcow2\n",
    "      ub2...\n",
    "      ub<n>\n",
    "\"\"\"\n",
    "from docs_conda_jupyter_lab.dump_simple_str_to_tree import dump_str_to_tree\n",
    "dump_str_to_tree(tmp).show()"
   ],
   "metadata": {
    "collapsed": false
   }
  },
  {
   "cell_type": "code",
   "execution_count": null,
   "outputs": [],
   "source": [
    "# Download cloud image and place into directory\n",
    "def download_cloud_images(\n",
    "        dl_location:str=\"https://cloud-images.ubuntu.com/releases/focal/release/ubuntu-20.04-server-cloudimg-amd64.img\",\n",
    "        img_location_root:str=\"/var/lib/libvirt/images/\"):\n",
    "    \"\"\"\n",
    "\n",
    "    :param cloud_image_location:\n",
    "    :param img_location:\n",
    "    :return:\n",
    "    \"\"\"\n",
    "    # extract / get type / or use generic...\n",
    "    # virt-install --osinfo list\n",
    "    # osinfo-query os # command not found...\n",
    "    # chown libvirt-qemu:kvm /var/lib/libvirt/images/*\n"
   ],
   "metadata": {
    "collapsed": false
   }
  },
  {
   "cell_type": "code",
   "execution_count": null,
   "outputs": [],
   "source": [
    "# Create qcow2 and initial user-data.yaml (cloud-config)\n",
    "## Manually setup user-data.yaml and validate with\n",
    "def create_base_qcow2():pass\n",
    "\"\"\"\n",
    "qemu-img create -b /var/lib/libvirt/images/ubuntu-22.04-minimal-cloudimg-amd64.img -f qcow2 -F qcow2 hal9000.qcow2 10G\n",
    "\"\"\""
   ],
   "metadata": {
    "collapsed": false
   }
  },
  {
   "cell_type": "code",
   "execution_count": null,
   "outputs": [],
   "source": [
    "def create_seed_and_qcow_per_vm():pass\n",
    "\"\"\"\n",
    "if cloud-init schema --config-file user-data.yaml ; then\n",
    "    echo \"Command succeeded\"\n",
    "else\n",
    "    echo \"Command failed\"\n",
    "    exit(1)\n",
    "fi\n",
    "\n",
    "cloud-localds seed.img user-data.yaml metadata.yaml\n",
    "\"\"\""
   ],
   "metadata": {
    "collapsed": false
   }
  },
  {
   "cell_type": "code",
   "execution_count": null,
   "outputs": [],
   "source": [
    "# Copy and chown"
   ],
   "metadata": {
    "collapsed": false
   }
  },
  {
   "cell_type": "code",
   "execution_count": null,
   "outputs": [],
   "source": [
    "# For testing can delete\n"
   ],
   "metadata": {
    "collapsed": false
   }
  }
 ],
 "metadata": {
  "kernelspec": {
   "display_name": "Python 3",
   "language": "python",
   "name": "python3"
  },
  "language_info": {
   "codemirror_mode": {
    "name": "ipython",
    "version": 2
   },
   "file_extension": ".py",
   "mimetype": "text/x-python",
   "name": "python",
   "nbconvert_exporter": "python",
   "pygments_lexer": "ipython2",
   "version": "2.7.6"
  }
 },
 "nbformat": 4,
 "nbformat_minor": 0
}
