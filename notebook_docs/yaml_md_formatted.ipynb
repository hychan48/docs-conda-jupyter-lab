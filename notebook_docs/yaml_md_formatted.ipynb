{
 "cells": [
  {
   "cell_type": "code",
   "execution_count": 1,
   "metadata": {
    "collapsed": false,
    "jupyter": {
     "outputs_hidden": false
    }
   },
   "outputs": [
    {
     "data": {
      "text/markdown": [
       "\n",
       "```yaml\n",
       "name: docs-conda-jupyter-lab\n",
       "channels: [defaults]\n",
       "dependencies: [python=3.10, poetry, jupyterlab]\n",
       "\n",
       "```\n"
      ],
      "text/plain": [
       "<IPython.core.display.Markdown object>"
      ]
     },
     "metadata": {},
     "output_type": "display_data"
    }
   ],
   "source": [
    "from pathlib import Path\n",
    "from print_yaml_utils import print_dict_as_yaml_md, print_dict_as_yaml_md_opts, print_yaml_md\n",
    "import yaml\n",
    "# yaml_file_path = str(Path().joinpath(\"..\",\"environment.yml\").resolve())\n",
    "# print(yaml_file_path)\n",
    "# with open(yaml_file_path) as yaml_file_stream:\n",
    "#     d_yaml = yaml.safe_load(yaml_file_stream)\n",
    "s_yaml = \"\"\"\n",
    "name: docs-conda-jupyter-lab\n",
    "channels:\n",
    "  - defaults\n",
    "dependencies:\n",
    "  - python=3.10\n",
    "  - poetry\n",
    "  - jupyterlab\n",
    "\"\"\"\n",
    "d_yaml = yaml.safe_load(s_yaml)\n",
    "print_dict_as_yaml_md(d_yaml)"
   ]
  },
  {
   "cell_type": "code",
   "execution_count": 5,
   "metadata": {
    "collapsed": false,
    "jupyter": {
     "outputs_hidden": false
    }
   },
   "outputs": [
    {
     "name": "stderr",
     "output_type": "stream",
     "text": [
      "WARNING:root:<class 'str'>\n",
      "WARNING:root:\n",
      "```yaml\n",
      "name: docs-conda-jupyter-lab\n",
      "channels:\n",
      "- defaults\n",
      "dependencies:\n",
      "- python=3.10\n",
      "- poetry\n",
      "- jupyterlab\n",
      "\n",
      "```\n",
      "\n"
     ]
    },
    {
     "data": {
      "text/markdown": [
       "\n",
       "```yaml\n",
       "name: docs-conda-jupyter-lab\n",
       "channels:\n",
       "- defaults\n",
       "dependencies:\n",
       "- python=3.10\n",
       "- poetry\n",
       "- jupyterlab\n",
       "\n",
       "```\n"
      ],
      "text/plain": [
       "<IPython.core.display.Markdown object>"
      ]
     },
     "metadata": {},
     "output_type": "display_data"
    }
   ],
   "source": [
    "print_dict_as_yaml_md_opts(d_yaml,default_flow_style=False,indent=4)\n",
    "# print_dict_as_yaml_md_opts(d_yaml)"
   ]
  },
  {
   "cell_type": "code",
   "execution_count": 28,
   "metadata": {
    "collapsed": false,
    "jupyter": {
     "outputs_hidden": false
    }
   },
   "outputs": [
    {
     "data": {
      "text/plain": "<IPython.core.display.Markdown object>",
      "text/markdown": "\n```yaml\n{a: [1, 2, 3, [4, 5, 6]]}\n\n```\n"
     },
     "metadata": {},
     "output_type": "display_data"
    }
   ],
   "source": [
    "import yaml\n",
    "from IPython.display import Markdown, display\n",
    "\n",
    "\n",
    "def print_md_nb(string):\n",
    "    display(Markdown(string))\n",
    "    # display(Markdown(string))\n",
    "def print_yaml_md_nb(yaml_dump_data):\n",
    "    print_md_nb(f\"\"\"\n",
    "```yaml\n",
    "{yaml_dump_data}\n",
    "```\n",
    "\"\"\")\n",
    "def print_dict_as_yaml_md_opts_nb(data_dict,default_flow_style=None,sort_keys=False, indent=4, **kwargs):\n",
    "    kwargs[\"default_flow_style\"] = default_flow_style\n",
    "    kwargs[\"sort_keys\"] = sort_keys\n",
    "    kwargs[\"indent\"] = indent\n",
    "    dumped_data = yaml.safe_dump(data_dict, **kwargs)\n",
    "    print_yaml_md_nb(dumped_data)\n",
    "    # print_yaml_md(yaml.dump(data_dict, default_flow_style=None, sort_keys=False))\n",
    "# print_dict_as_yaml_md_opts_nb(d_yaml,indent=4,default_flow_style=False)\n",
    "# print_yaml_md_nb(yaml.safe_dump(dict(a=[1,2,3,[4,5,6]]), indent=4,width=1)) $ width does nothing\n",
    "print_yaml_md_nb(yaml.safe_dump(dict(a=[1,2,3,[4,5,6]]),default_flow_style=True, indent=4,width=1)) # indent for w/e reason doesnt work on the first level"
   ]
  },
  {
   "cell_type": "markdown",
   "metadata": {},
   "source": [
    "```yaml\n",
    "name: docs-conda-jupyter-lab\n",
    "channels:\n",
    "  - defaults\n",
    "dependencies:\n",
    "  - python=3.10\n",
    "  - poetry\n",
    "  - jupyterlab\n",
    "```"
   ]
  }
 ],
 "metadata": {
  "kernelspec": {
   "display_name": "Python 3 (ipykernel)",
   "language": "python",
   "name": "python3"
  },
  "language_info": {
   "codemirror_mode": {
    "name": "ipython",
    "version": 3
   },
   "file_extension": ".py",
   "mimetype": "text/x-python",
   "name": "python",
   "nbconvert_exporter": "python",
   "pygments_lexer": "ipython3",
   "version": "3.10.9"
  }
 },
 "nbformat": 4,
 "nbformat_minor": 4
}
