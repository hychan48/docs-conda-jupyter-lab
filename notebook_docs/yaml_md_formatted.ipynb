{
 "cells": [
  {
   "cell_type": "code",
   "execution_count": 15,
   "outputs": [
    {
     "data": {
      "text/plain": "<IPython.core.display.Markdown object>",
      "text/markdown": "\n```yaml\nname: docs-conda-jupyter-lab\nchannels: [defaults]\ndependencies: [python=3.10, poetry, jupyterlab]\n\n```\n"
     },
     "metadata": {},
     "output_type": "display_data"
    }
   ],
   "source": [
    "from pathlib import Path\n",
    "from print_yaml_utils import print_dict_as_yaml_md\n",
    "import yaml\n",
    "# yaml_file_path = str(Path().joinpath(\"..\",\"environment.yml\").resolve())\n",
    "# print(yaml_file_path)\n",
    "# with open(yaml_file_path) as yaml_file_stream:\n",
    "#     d_yaml = yaml.safe_load(yaml_file_stream)\n",
    "s_yaml = \"\"\"\n",
    "name: docs-conda-jupyter-lab\n",
    "channels:\n",
    "  - defaults\n",
    "dependencies:\n",
    "  - python=3.10\n",
    "  - poetry\n",
    "  - jupyterlab\n",
    "\"\"\"\n",
    "d_yaml = yaml.safe_load(s_yaml)\n",
    "print_dict_as_yaml_md(d_yaml)"
   ],
   "metadata": {
    "collapsed": false
   }
  },
  {
   "cell_type": "markdown",
   "source": [
    "```yaml\n",
    "name: docs-conda-jupyter-lab\n",
    "channels:\n",
    "  - defaults\n",
    "dependencies:\n",
    "  - python=3.10\n",
    "  - poetry\n",
    "  - jupyterlab\n",
    "```"
   ],
   "metadata": {
    "collapsed": false
   }
  }
 ],
 "metadata": {
  "kernelspec": {
   "display_name": "Python 3 (ipykernel)",
   "language": "python",
   "name": "python3"
  },
  "language_info": {
   "codemirror_mode": {
    "name": "ipython",
    "version": 3
   },
   "file_extension": ".py",
   "mimetype": "text/x-python",
   "name": "python",
   "nbconvert_exporter": "python",
   "pygments_lexer": "ipython3",
   "version": "3.10.9"
  }
 },
 "nbformat": 4,
 "nbformat_minor": 4
}
